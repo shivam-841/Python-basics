{
  "metadata": {
    "language_info": {
      "codemirror_mode": {
        "name": "python",
        "version": 3
      },
      "file_extension": ".py",
      "mimetype": "text/x-python",
      "name": "python",
      "nbconvert_exporter": "python",
      "pygments_lexer": "ipython3",
      "version": "3.8"
    },
    "kernelspec": {
      "name": "python",
      "display_name": "Python (Pyodide)",
      "language": "python"
    }
  },
  "nbformat_minor": 4,
  "nbformat": 4,
  "cells": [
    {
      "cell_type": "markdown",
      "source": "Q1)How can we store a single quote (‘) as a string in a var1able?",
      "metadata": {}
    },
    {
      "cell_type": "code",
      "source": "string=\"'\"",
      "metadata": {
        "trusted": true
      },
      "execution_count": 6,
      "outputs": []
    },
    {
      "cell_type": "code",
      "source": "string",
      "metadata": {
        "trusted": true
      },
      "execution_count": 7,
      "outputs": [
        {
          "execution_count": 7,
          "output_type": "execute_result",
          "data": {
            "text/plain": "\"'\""
          },
          "metadata": {}
        }
      ]
    },
    {
      "cell_type": "markdown",
      "source": "Q2) Refer the below variable:\nx = 'a'\nHere, Is x a character type or string type variable? Support your answer with an explanat1on.\n- Here x is a string type because python don't have character data type.",
      "metadata": {}
    },
    {
      "cell_type": "code",
      "source": "x='a'\ntype(x)",
      "metadata": {
        "trusted": true
      },
      "execution_count": 10,
      "outputs": [
        {
          "execution_count": 10,
          "output_type": "execute_result",
          "data": {
            "text/plain": "str"
          },
          "metadata": {}
        }
      ]
    },
    {
      "cell_type": "markdown",
      "source": "Q3) Apply the following funct1ons on this var1able: ‘'Welcome to Python foundation course'\ni) f1nd()\nii)count()\niii)len()\niv)Concatenat1on\nNote: You can use your cho1ce of parameters, But make sure It is correct.",
      "metadata": {}
    },
    {
      "cell_type": "code",
      "source": "str1='Welcome to Python foundation course'",
      "metadata": {
        "trusted": true
      },
      "execution_count": 58,
      "outputs": []
    },
    {
      "cell_type": "code",
      "source": "str1.find('Python')",
      "metadata": {
        "trusted": true
      },
      "execution_count": 59,
      "outputs": [
        {
          "execution_count": 59,
          "output_type": "execute_result",
          "data": {
            "text/plain": "11"
          },
          "metadata": {}
        }
      ]
    },
    {
      "cell_type": "code",
      "source": "str1.count('o')",
      "metadata": {
        "trusted": true
      },
      "execution_count": 60,
      "outputs": [
        {
          "execution_count": 60,
          "output_type": "execute_result",
          "data": {
            "text/plain": "6"
          },
          "metadata": {}
        }
      ]
    },
    {
      "cell_type": "code",
      "source": "len(str1)",
      "metadata": {
        "trusted": true
      },
      "execution_count": 61,
      "outputs": [
        {
          "execution_count": 61,
          "output_type": "execute_result",
          "data": {
            "text/plain": "35"
          },
          "metadata": {}
        }
      ]
    },
    {
      "cell_type": "code",
      "source": "st=', Shivam'",
      "metadata": {
        "trusted": true
      },
      "execution_count": 18,
      "outputs": []
    },
    {
      "cell_type": "code",
      "source": "str1+st #concatenation",
      "metadata": {
        "trusted": true
      },
      "execution_count": 62,
      "outputs": [
        {
          "execution_count": 62,
          "output_type": "execute_result",
          "data": {
            "text/plain": "'Welcome to Python foundation course, Shivam'"
          },
          "metadata": {}
        }
      ]
    },
    {
      "cell_type": "markdown",
      "source": "Q4) For the var1able word= 'PanaJi@12256'\nCalculate the follow1ng:\n(a) Total number of alphabets in lowercase\n(b) Total number of alphabets in uppercase\n(c) Total number of numerical in str1ng",
      "metadata": {}
    },
    {
      "cell_type": "code",
      "source": "word='PanaJi@12256'",
      "metadata": {
        "trusted": true
      },
      "execution_count": 21,
      "outputs": []
    },
    {
      "cell_type": "code",
      "source": "count=0\nfor x in word:\n    if(x.islower()==True):\n        count+=1\nprint('Total number of alphabets in lowercase: ',count)",
      "metadata": {
        "trusted": true
      },
      "execution_count": 49,
      "outputs": [
        {
          "name": "stdout",
          "text": "Total number of alphabets in lowercase:  4\n",
          "output_type": "stream"
        }
      ]
    },
    {
      "cell_type": "code",
      "source": "count=0\nfor x in word:\n    if(x.isupper()==True):\n        count+=1\ncount\nprint('Total number of alphabets in uppercase: ',count)",
      "metadata": {
        "trusted": true
      },
      "execution_count": 50,
      "outputs": [
        {
          "name": "stdout",
          "text": "Total number of alphabets in uppercase:  2\n",
          "output_type": "stream"
        }
      ]
    },
    {
      "cell_type": "code",
      "source": "count=0\nfor x in word:\n    if(x.isdigit()==True):\n        count+=1\nprint('Total number of numerical in string: ',count)",
      "metadata": {
        "trusted": true
      },
      "execution_count": 53,
      "outputs": [
        {
          "name": "stdout",
          "text": "Total number of numerical in string:  5\n",
          "output_type": "stream"
        }
      ]
    },
    {
      "cell_type": "markdown",
      "source": "Q5) Write a code to store a numerical value inside a variable then convert it into string?",
      "metadata": {}
    },
    {
      "cell_type": "code",
      "source": "num=5\nstr(num)",
      "metadata": {
        "trusted": true
      },
      "execution_count": 1,
      "outputs": [
        {
          "execution_count": 1,
          "output_type": "execute_result",
          "data": {
            "text/plain": "'5'"
          },
          "metadata": {}
        }
      ]
    }
  ]
}